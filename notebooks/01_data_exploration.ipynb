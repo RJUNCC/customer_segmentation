{
 "cells": [
  {
   "cell_type": "code",
   "execution_count": 1,
   "metadata": {},
   "outputs": [],
   "source": [
    "import pandas as pd\n",
    "import polars as pl \n",
    "import seaborn as sns\n",
    "import matplotlib.pyplot as plt"
   ]
  },
  {
   "cell_type": "code",
   "execution_count": 19,
   "metadata": {},
   "outputs": [
    {
     "data": {
      "text/html": [
       "<div><style>\n",
       ".dataframe > thead > tr,\n",
       ".dataframe > tbody > tr {\n",
       "  text-align: right;\n",
       "  white-space: pre-wrap;\n",
       "}\n",
       "</style>\n",
       "<small>shape: (541_909, 8)</small><table border=\"1\" class=\"dataframe\"><thead><tr><th>InvoiceNo</th><th>StockCode</th><th>Description</th><th>Quantity</th><th>InvoiceDate</th><th>UnitPrice</th><th>CustomerID</th><th>Country</th></tr><tr><td>i64</td><td>str</td><td>str</td><td>i64</td><td>str</td><td>f64</td><td>i64</td><td>str</td></tr></thead><tbody><tr><td>536365</td><td>&quot;85123A&quot;</td><td>&quot;WHITE HANGING HEART T-LIGHT HO…</td><td>6</td><td>&quot;12/1/2010 8:26&quot;</td><td>2.55</td><td>17850</td><td>&quot;United Kingdom&quot;</td></tr><tr><td>536365</td><td>&quot;71053&quot;</td><td>&quot;WHITE METAL LANTERN&quot;</td><td>6</td><td>&quot;12/1/2010 8:26&quot;</td><td>3.39</td><td>17850</td><td>&quot;United Kingdom&quot;</td></tr><tr><td>536365</td><td>&quot;84406B&quot;</td><td>&quot;CREAM CUPID HEARTS COAT HANGER&quot;</td><td>8</td><td>&quot;12/1/2010 8:26&quot;</td><td>2.75</td><td>17850</td><td>&quot;United Kingdom&quot;</td></tr><tr><td>536365</td><td>&quot;84029G&quot;</td><td>&quot;KNITTED UNION FLAG HOT WATER B…</td><td>6</td><td>&quot;12/1/2010 8:26&quot;</td><td>3.39</td><td>17850</td><td>&quot;United Kingdom&quot;</td></tr><tr><td>536365</td><td>&quot;84029E&quot;</td><td>&quot;RED WOOLLY HOTTIE WHITE HEART.&quot;</td><td>6</td><td>&quot;12/1/2010 8:26&quot;</td><td>3.39</td><td>17850</td><td>&quot;United Kingdom&quot;</td></tr><tr><td>&hellip;</td><td>&hellip;</td><td>&hellip;</td><td>&hellip;</td><td>&hellip;</td><td>&hellip;</td><td>&hellip;</td><td>&hellip;</td></tr><tr><td>581587</td><td>&quot;22613&quot;</td><td>&quot;PACK OF 20 SPACEBOY NAPKINS&quot;</td><td>12</td><td>&quot;12/9/2011 12:50&quot;</td><td>0.85</td><td>12680</td><td>&quot;France&quot;</td></tr><tr><td>581587</td><td>&quot;22899&quot;</td><td>&quot;CHILDREN&#x27;S APRON DOLLY GIRL &quot;</td><td>6</td><td>&quot;12/9/2011 12:50&quot;</td><td>2.1</td><td>12680</td><td>&quot;France&quot;</td></tr><tr><td>581587</td><td>&quot;23254&quot;</td><td>&quot;CHILDRENS CUTLERY DOLLY GIRL &quot;</td><td>4</td><td>&quot;12/9/2011 12:50&quot;</td><td>4.15</td><td>12680</td><td>&quot;France&quot;</td></tr><tr><td>581587</td><td>&quot;23255&quot;</td><td>&quot;CHILDRENS CUTLERY CIRCUS PARAD…</td><td>4</td><td>&quot;12/9/2011 12:50&quot;</td><td>4.15</td><td>12680</td><td>&quot;France&quot;</td></tr><tr><td>581587</td><td>&quot;22138&quot;</td><td>&quot;BAKING SET 9 PIECE RETROSPOT &quot;</td><td>3</td><td>&quot;12/9/2011 12:50&quot;</td><td>4.95</td><td>12680</td><td>&quot;France&quot;</td></tr></tbody></table></div>"
      ],
      "text/plain": [
       "shape: (541_909, 8)\n",
       "┌───────────┬───────────┬──────────────┬──────────┬─────────────┬───────────┬────────────┬─────────┐\n",
       "│ InvoiceNo ┆ StockCode ┆ Description  ┆ Quantity ┆ InvoiceDate ┆ UnitPrice ┆ CustomerID ┆ Country │\n",
       "│ ---       ┆ ---       ┆ ---          ┆ ---      ┆ ---         ┆ ---       ┆ ---        ┆ ---     │\n",
       "│ i64       ┆ str       ┆ str          ┆ i64      ┆ str         ┆ f64       ┆ i64        ┆ str     │\n",
       "╞═══════════╪═══════════╪══════════════╪══════════╪═════════════╪═══════════╪════════════╪═════════╡\n",
       "│ 536365    ┆ 85123A    ┆ WHITE        ┆ 6        ┆ 12/1/2010   ┆ 2.55      ┆ 17850      ┆ United  │\n",
       "│           ┆           ┆ HANGING      ┆          ┆ 8:26        ┆           ┆            ┆ Kingdom │\n",
       "│           ┆           ┆ HEART        ┆          ┆             ┆           ┆            ┆         │\n",
       "│           ┆           ┆ T-LIGHT HO…  ┆          ┆             ┆           ┆            ┆         │\n",
       "│ 536365    ┆ 71053     ┆ WHITE METAL  ┆ 6        ┆ 12/1/2010   ┆ 3.39      ┆ 17850      ┆ United  │\n",
       "│           ┆           ┆ LANTERN      ┆          ┆ 8:26        ┆           ┆            ┆ Kingdom │\n",
       "│ 536365    ┆ 84406B    ┆ CREAM CUPID  ┆ 8        ┆ 12/1/2010   ┆ 2.75      ┆ 17850      ┆ United  │\n",
       "│           ┆           ┆ HEARTS COAT  ┆          ┆ 8:26        ┆           ┆            ┆ Kingdom │\n",
       "│           ┆           ┆ HANGER       ┆          ┆             ┆           ┆            ┆         │\n",
       "│ 536365    ┆ 84029G    ┆ KNITTED      ┆ 6        ┆ 12/1/2010   ┆ 3.39      ┆ 17850      ┆ United  │\n",
       "│           ┆           ┆ UNION FLAG   ┆          ┆ 8:26        ┆           ┆            ┆ Kingdom │\n",
       "│           ┆           ┆ HOT WATER B… ┆          ┆             ┆           ┆            ┆         │\n",
       "│ 536365    ┆ 84029E    ┆ RED WOOLLY   ┆ 6        ┆ 12/1/2010   ┆ 3.39      ┆ 17850      ┆ United  │\n",
       "│           ┆           ┆ HOTTIE WHITE ┆          ┆ 8:26        ┆           ┆            ┆ Kingdom │\n",
       "│           ┆           ┆ HEART.       ┆          ┆             ┆           ┆            ┆         │\n",
       "│ …         ┆ …         ┆ …            ┆ …        ┆ …           ┆ …         ┆ …          ┆ …       │\n",
       "│ 581587    ┆ 22613     ┆ PACK OF 20   ┆ 12       ┆ 12/9/2011   ┆ 0.85      ┆ 12680      ┆ France  │\n",
       "│           ┆           ┆ SPACEBOY     ┆          ┆ 12:50       ┆           ┆            ┆         │\n",
       "│           ┆           ┆ NAPKINS      ┆          ┆             ┆           ┆            ┆         │\n",
       "│ 581587    ┆ 22899     ┆ CHILDREN'S   ┆ 6        ┆ 12/9/2011   ┆ 2.1       ┆ 12680      ┆ France  │\n",
       "│           ┆           ┆ APRON DOLLY  ┆          ┆ 12:50       ┆           ┆            ┆         │\n",
       "│           ┆           ┆ GIRL         ┆          ┆             ┆           ┆            ┆         │\n",
       "│ 581587    ┆ 23254     ┆ CHILDRENS    ┆ 4        ┆ 12/9/2011   ┆ 4.15      ┆ 12680      ┆ France  │\n",
       "│           ┆           ┆ CUTLERY      ┆          ┆ 12:50       ┆           ┆            ┆         │\n",
       "│           ┆           ┆ DOLLY GIRL   ┆          ┆             ┆           ┆            ┆         │\n",
       "│ 581587    ┆ 23255     ┆ CHILDRENS    ┆ 4        ┆ 12/9/2011   ┆ 4.15      ┆ 12680      ┆ France  │\n",
       "│           ┆           ┆ CUTLERY      ┆          ┆ 12:50       ┆           ┆            ┆         │\n",
       "│           ┆           ┆ CIRCUS       ┆          ┆             ┆           ┆            ┆         │\n",
       "│           ┆           ┆ PARAD…       ┆          ┆             ┆           ┆            ┆         │\n",
       "│ 581587    ┆ 22138     ┆ BAKING SET 9 ┆ 3        ┆ 12/9/2011   ┆ 4.95      ┆ 12680      ┆ France  │\n",
       "│           ┆           ┆ PIECE        ┆          ┆ 12:50       ┆           ┆            ┆         │\n",
       "│           ┆           ┆ RETROSPOT    ┆          ┆             ┆           ┆            ┆         │\n",
       "└───────────┴───────────┴──────────────┴──────────┴─────────────┴───────────┴────────────┴─────────┘"
      ]
     },
     "execution_count": 19,
     "metadata": {},
     "output_type": "execute_result"
    }
   ],
   "source": [
    "df = pl.read_csv(\n",
    "    \"../data/raw/data.csv\",\n",
    "    ignore_errors=True\n",
    "    )\n",
    "df"
   ]
  },
  {
   "cell_type": "code",
   "execution_count": 23,
   "metadata": {},
   "outputs": [
    {
     "data": {
      "text/html": [
       "<div><style>\n",
       ".dataframe > thead > tr,\n",
       ".dataframe > tbody > tr {\n",
       "  text-align: right;\n",
       "  white-space: pre-wrap;\n",
       "}\n",
       "</style>\n",
       "<small>shape: (1, 8)</small><table border=\"1\" class=\"dataframe\"><thead><tr><th>InvoiceNo</th><th>StockCode</th><th>Description</th><th>Quantity</th><th>InvoiceDate</th><th>UnitPrice</th><th>CustomerID</th><th>Country</th></tr><tr><td>u32</td><td>u32</td><td>u32</td><td>u32</td><td>u32</td><td>u32</td><td>u32</td><td>u32</td></tr></thead><tbody><tr><td>9291</td><td>0</td><td>1486</td><td>0</td><td>0</td><td>0</td><td>135080</td><td>0</td></tr></tbody></table></div>"
      ],
      "text/plain": [
       "shape: (1, 8)\n",
       "┌───────────┬───────────┬─────────────┬──────────┬─────────────┬───────────┬────────────┬─────────┐\n",
       "│ InvoiceNo ┆ StockCode ┆ Description ┆ Quantity ┆ InvoiceDate ┆ UnitPrice ┆ CustomerID ┆ Country │\n",
       "│ ---       ┆ ---       ┆ ---         ┆ ---      ┆ ---         ┆ ---       ┆ ---        ┆ ---     │\n",
       "│ u32       ┆ u32       ┆ u32         ┆ u32      ┆ u32         ┆ u32       ┆ u32        ┆ u32     │\n",
       "╞═══════════╪═══════════╪═════════════╪══════════╪═════════════╪═══════════╪════════════╪═════════╡\n",
       "│ 9291      ┆ 0         ┆ 1486        ┆ 0        ┆ 0           ┆ 0         ┆ 135080     ┆ 0       │\n",
       "└───────────┴───────────┴─────────────┴──────────┴─────────────┴───────────┴────────────┴─────────┘"
      ]
     },
     "execution_count": 23,
     "metadata": {},
     "output_type": "execute_result"
    }
   ],
   "source": [
    "df.null_count()"
   ]
  },
  {
   "cell_type": "markdown",
   "metadata": {},
   "source": [
    "Nulls in InvoiceNo, Description, and CustomerID"
   ]
  },
  {
   "cell_type": "code",
   "execution_count": 27,
   "metadata": {},
   "outputs": [
    {
     "data": {
      "text/html": [
       "<div><style>\n",
       ".dataframe > thead > tr,\n",
       ".dataframe > tbody > tr {\n",
       "  text-align: right;\n",
       "  white-space: pre-wrap;\n",
       "}\n",
       "</style>\n",
       "<small>shape: (9_291, 8)</small><table border=\"1\" class=\"dataframe\"><thead><tr><th>InvoiceNo</th><th>StockCode</th><th>Description</th><th>Quantity</th><th>InvoiceDate</th><th>UnitPrice</th><th>CustomerID</th><th>Country</th></tr><tr><td>i64</td><td>str</td><td>str</td><td>i64</td><td>str</td><td>f64</td><td>i64</td><td>str</td></tr></thead><tbody><tr><td>null</td><td>&quot;D&quot;</td><td>&quot;Discount&quot;</td><td>-1</td><td>&quot;12/1/2010 9:41&quot;</td><td>27.5</td><td>14527</td><td>&quot;United Kingdom&quot;</td></tr><tr><td>null</td><td>&quot;35004C&quot;</td><td>&quot;SET OF 3 COLOURED  FLYING DUCK…</td><td>-1</td><td>&quot;12/1/2010 9:49&quot;</td><td>4.65</td><td>15311</td><td>&quot;United Kingdom&quot;</td></tr><tr><td>null</td><td>&quot;22556&quot;</td><td>&quot;PLASTERS IN TIN CIRCUS PARADE &quot;</td><td>-12</td><td>&quot;12/1/2010 10:24&quot;</td><td>1.65</td><td>17548</td><td>&quot;United Kingdom&quot;</td></tr><tr><td>null</td><td>&quot;21984&quot;</td><td>&quot;PACK OF 12 PINK PAISLEY TISSUE…</td><td>-24</td><td>&quot;12/1/2010 10:24&quot;</td><td>0.29</td><td>17548</td><td>&quot;United Kingdom&quot;</td></tr><tr><td>null</td><td>&quot;21983&quot;</td><td>&quot;PACK OF 12 BLUE PAISLEY TISSUE…</td><td>-24</td><td>&quot;12/1/2010 10:24&quot;</td><td>0.29</td><td>17548</td><td>&quot;United Kingdom&quot;</td></tr><tr><td>&hellip;</td><td>&hellip;</td><td>&hellip;</td><td>&hellip;</td><td>&hellip;</td><td>&hellip;</td><td>&hellip;</td><td>&hellip;</td></tr><tr><td>null</td><td>&quot;23144&quot;</td><td>&quot;ZINC T-LIGHT HOLDER STARS SMAL…</td><td>-11</td><td>&quot;12/9/2011 9:57&quot;</td><td>0.83</td><td>14397</td><td>&quot;United Kingdom&quot;</td></tr><tr><td>null</td><td>&quot;M&quot;</td><td>&quot;Manual&quot;</td><td>-1</td><td>&quot;12/9/2011 10:28&quot;</td><td>224.69</td><td>15498</td><td>&quot;United Kingdom&quot;</td></tr><tr><td>null</td><td>&quot;21258&quot;</td><td>&quot;VICTORIAN SEWING BOX LARGE&quot;</td><td>-5</td><td>&quot;12/9/2011 11:57&quot;</td><td>10.95</td><td>15311</td><td>&quot;United Kingdom&quot;</td></tr><tr><td>null</td><td>&quot;84978&quot;</td><td>&quot;HANGING HEART JAR T-LIGHT HOLD…</td><td>-1</td><td>&quot;12/9/2011 11:58&quot;</td><td>1.25</td><td>17315</td><td>&quot;United Kingdom&quot;</td></tr><tr><td>null</td><td>&quot;20979&quot;</td><td>&quot;36 PENCILS TUBE RED RETROSPOT&quot;</td><td>-5</td><td>&quot;12/9/2011 11:58&quot;</td><td>1.25</td><td>17315</td><td>&quot;United Kingdom&quot;</td></tr></tbody></table></div>"
      ],
      "text/plain": [
       "shape: (9_291, 8)\n",
       "┌───────────┬───────────┬──────────────┬──────────┬─────────────┬───────────┬────────────┬─────────┐\n",
       "│ InvoiceNo ┆ StockCode ┆ Description  ┆ Quantity ┆ InvoiceDate ┆ UnitPrice ┆ CustomerID ┆ Country │\n",
       "│ ---       ┆ ---       ┆ ---          ┆ ---      ┆ ---         ┆ ---       ┆ ---        ┆ ---     │\n",
       "│ i64       ┆ str       ┆ str          ┆ i64      ┆ str         ┆ f64       ┆ i64        ┆ str     │\n",
       "╞═══════════╪═══════════╪══════════════╪══════════╪═════════════╪═══════════╪════════════╪═════════╡\n",
       "│ null      ┆ D         ┆ Discount     ┆ -1       ┆ 12/1/2010   ┆ 27.5      ┆ 14527      ┆ United  │\n",
       "│           ┆           ┆              ┆          ┆ 9:41        ┆           ┆            ┆ Kingdom │\n",
       "│ null      ┆ 35004C    ┆ SET OF 3     ┆ -1       ┆ 12/1/2010   ┆ 4.65      ┆ 15311      ┆ United  │\n",
       "│           ┆           ┆ COLOURED     ┆          ┆ 9:49        ┆           ┆            ┆ Kingdom │\n",
       "│           ┆           ┆ FLYING DUCK… ┆          ┆             ┆           ┆            ┆         │\n",
       "│ null      ┆ 22556     ┆ PLASTERS IN  ┆ -12      ┆ 12/1/2010   ┆ 1.65      ┆ 17548      ┆ United  │\n",
       "│           ┆           ┆ TIN CIRCUS   ┆          ┆ 10:24       ┆           ┆            ┆ Kingdom │\n",
       "│           ┆           ┆ PARADE       ┆          ┆             ┆           ┆            ┆         │\n",
       "│ null      ┆ 21984     ┆ PACK OF 12   ┆ -24      ┆ 12/1/2010   ┆ 0.29      ┆ 17548      ┆ United  │\n",
       "│           ┆           ┆ PINK PAISLEY ┆          ┆ 10:24       ┆           ┆            ┆ Kingdom │\n",
       "│           ┆           ┆ TISSUE…      ┆          ┆             ┆           ┆            ┆         │\n",
       "│ null      ┆ 21983     ┆ PACK OF 12   ┆ -24      ┆ 12/1/2010   ┆ 0.29      ┆ 17548      ┆ United  │\n",
       "│           ┆           ┆ BLUE PAISLEY ┆          ┆ 10:24       ┆           ┆            ┆ Kingdom │\n",
       "│           ┆           ┆ TISSUE…      ┆          ┆             ┆           ┆            ┆         │\n",
       "│ …         ┆ …         ┆ …            ┆ …        ┆ …           ┆ …         ┆ …          ┆ …       │\n",
       "│ null      ┆ 23144     ┆ ZINC T-LIGHT ┆ -11      ┆ 12/9/2011   ┆ 0.83      ┆ 14397      ┆ United  │\n",
       "│           ┆           ┆ HOLDER STARS ┆          ┆ 9:57        ┆           ┆            ┆ Kingdom │\n",
       "│           ┆           ┆ SMAL…        ┆          ┆             ┆           ┆            ┆         │\n",
       "│ null      ┆ M         ┆ Manual       ┆ -1       ┆ 12/9/2011   ┆ 224.69    ┆ 15498      ┆ United  │\n",
       "│           ┆           ┆              ┆          ┆ 10:28       ┆           ┆            ┆ Kingdom │\n",
       "│ null      ┆ 21258     ┆ VICTORIAN    ┆ -5       ┆ 12/9/2011   ┆ 10.95     ┆ 15311      ┆ United  │\n",
       "│           ┆           ┆ SEWING BOX   ┆          ┆ 11:57       ┆           ┆            ┆ Kingdom │\n",
       "│           ┆           ┆ LARGE        ┆          ┆             ┆           ┆            ┆         │\n",
       "│ null      ┆ 84978     ┆ HANGING      ┆ -1       ┆ 12/9/2011   ┆ 1.25      ┆ 17315      ┆ United  │\n",
       "│           ┆           ┆ HEART JAR    ┆          ┆ 11:58       ┆           ┆            ┆ Kingdom │\n",
       "│           ┆           ┆ T-LIGHT      ┆          ┆             ┆           ┆            ┆         │\n",
       "│           ┆           ┆ HOLD…        ┆          ┆             ┆           ┆            ┆         │\n",
       "│ null      ┆ 20979     ┆ 36 PENCILS   ┆ -5       ┆ 12/9/2011   ┆ 1.25      ┆ 17315      ┆ United  │\n",
       "│           ┆           ┆ TUBE RED     ┆          ┆ 11:58       ┆           ┆            ┆ Kingdom │\n",
       "│           ┆           ┆ RETROSPOT    ┆          ┆             ┆           ┆            ┆         │\n",
       "└───────────┴───────────┴──────────────┴──────────┴─────────────┴───────────┴────────────┴─────────┘"
      ]
     },
     "execution_count": 27,
     "metadata": {},
     "output_type": "execute_result"
    }
   ],
   "source": [
    "df.filter(pl.col(\"InvoiceNo\").is_null() == True)"
   ]
  },
  {
   "cell_type": "code",
   "execution_count": null,
   "metadata": {},
   "outputs": [],
   "source": []
  }
 ],
 "metadata": {
  "kernelspec": {
   "display_name": "cust_seg",
   "language": "python",
   "name": "python3"
  },
  "language_info": {
   "codemirror_mode": {
    "name": "ipython",
    "version": 3
   },
   "file_extension": ".py",
   "mimetype": "text/x-python",
   "name": "python",
   "nbconvert_exporter": "python",
   "pygments_lexer": "ipython3",
   "version": "3.9.19"
  }
 },
 "nbformat": 4,
 "nbformat_minor": 2
}
